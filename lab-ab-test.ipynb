{
 "cells": [
  {
   "cell_type": "markdown",
   "id": "angry-pearl",
   "metadata": {
    "toc": true
   },
   "source": [
    "<h1>Table of Contents<span class=\"tocSkip\"></span></h1>\n",
    "<div class=\"toc\"><ul class=\"toc-item\"><li><span><a href=\"#AB-Testing\" data-toc-modified-id=\"AB-Testing-1\"><span class=\"toc-item-num\">1&nbsp;&nbsp;</span>AB-Testing</a></span></li></ul></div>"
   ]
  },
  {
   "cell_type": "markdown",
   "id": "c92ba6e0",
   "metadata": {},
   "source": [
    "# AB-Testing\n",
    "\n",
    "![cats](images/cats.jpeg)\n",
    "\n",
    "\n",
    "Imaginad que somos los cientificos de datos de la empresa de videojuegos Tactile Entertainment. Los desarrolladores del juego Cookie Cats pretenden introducir un cambio en el juego para aumentar la retencion de los jugadores. En cierto nivel del juego los jugadores se encuentran una puerta que les obliga a esperar o a pagar la app. Actualmente la puerta se encuentra en nivel 30 y se pretende pasar al nivel 40, para comprobar la retencion a 1 y 7 dias. Antes de realizar el cambio definitivo en el juego se raliza un test AB.\n",
    "\n",
    "Los datos estan alojados en `data/cookie_cats.csv`. Nuestro grupo de control sera la version actual `gate_30` y el grupo de tratamiento sera la version `gate_40`. Debemos realizar el test para 1 dia de retencion `retention_1` y para 7 dias `retention_7`."
   ]
  },
  {
   "cell_type": "code",
   "execution_count": 1,
   "id": "ac3b2f52",
   "metadata": {},
   "outputs": [],
   "source": [
    "# librerias\n",
    "\n",
    "import pandas as pd\n",
    "import numpy as np\n",
    "\n",
    "from statsmodels.stats.proportion import proportions_ztest, proportion_confint\n",
    "from scipy.stats import norm, sem\n",
    "\n",
    "import pylab as plt"
   ]
  },
  {
   "cell_type": "code",
   "execution_count": 2,
   "id": "7fe515c2",
   "metadata": {},
   "outputs": [
    {
     "data": {
      "text/html": [
       "<div>\n",
       "<style scoped>\n",
       "    .dataframe tbody tr th:only-of-type {\n",
       "        vertical-align: middle;\n",
       "    }\n",
       "\n",
       "    .dataframe tbody tr th {\n",
       "        vertical-align: top;\n",
       "    }\n",
       "\n",
       "    .dataframe thead th {\n",
       "        text-align: right;\n",
       "    }\n",
       "</style>\n",
       "<table border=\"1\" class=\"dataframe\">\n",
       "  <thead>\n",
       "    <tr style=\"text-align: right;\">\n",
       "      <th></th>\n",
       "      <th>userid</th>\n",
       "      <th>version</th>\n",
       "      <th>sum_gamerounds</th>\n",
       "      <th>retention_1</th>\n",
       "      <th>retention_7</th>\n",
       "    </tr>\n",
       "  </thead>\n",
       "  <tbody>\n",
       "    <tr>\n",
       "      <th>0</th>\n",
       "      <td>116</td>\n",
       "      <td>gate_30</td>\n",
       "      <td>3</td>\n",
       "      <td>False</td>\n",
       "      <td>False</td>\n",
       "    </tr>\n",
       "    <tr>\n",
       "      <th>1</th>\n",
       "      <td>337</td>\n",
       "      <td>gate_30</td>\n",
       "      <td>38</td>\n",
       "      <td>True</td>\n",
       "      <td>False</td>\n",
       "    </tr>\n",
       "    <tr>\n",
       "      <th>2</th>\n",
       "      <td>377</td>\n",
       "      <td>gate_40</td>\n",
       "      <td>165</td>\n",
       "      <td>True</td>\n",
       "      <td>False</td>\n",
       "    </tr>\n",
       "    <tr>\n",
       "      <th>3</th>\n",
       "      <td>483</td>\n",
       "      <td>gate_40</td>\n",
       "      <td>1</td>\n",
       "      <td>False</td>\n",
       "      <td>False</td>\n",
       "    </tr>\n",
       "    <tr>\n",
       "      <th>4</th>\n",
       "      <td>488</td>\n",
       "      <td>gate_40</td>\n",
       "      <td>179</td>\n",
       "      <td>True</td>\n",
       "      <td>True</td>\n",
       "    </tr>\n",
       "  </tbody>\n",
       "</table>\n",
       "</div>"
      ],
      "text/plain": [
       "   userid  version  sum_gamerounds  retention_1  retention_7\n",
       "0     116  gate_30               3        False        False\n",
       "1     337  gate_30              38         True        False\n",
       "2     377  gate_40             165         True        False\n",
       "3     483  gate_40               1        False        False\n",
       "4     488  gate_40             179         True         True"
      ]
     },
     "execution_count": 2,
     "metadata": {},
     "output_type": "execute_result"
    }
   ],
   "source": [
    "# datos\n",
    "catsdf = pd.read_csv('data/cookie_cats.csv')\n",
    "\n",
    "catsdf.head()"
   ]
  },
  {
   "cell_type": "markdown",
   "metadata": {},
   "source": [
    "### 1. What We're Checking:\n",
    "\n",
    "To see if the change is good, they're looking at two things:\n",
    "- Retention at 1 day: Are people still playing the game one day after they start?\n",
    "- Retention at 7 days: Are people still playing a week after they start?"
   ]
  },
  {
   "cell_type": "code",
   "execution_count": 3,
   "id": "f2e6147a",
   "metadata": {},
   "outputs": [],
   "source": [
    "# transformacion\n",
    "cats_gate30 = catsdf[catsdf['version']=='gate_30']\n",
    "cats_gate40 = catsdf[catsdf['version']=='gate_40']"
   ]
  },
  {
   "cell_type": "markdown",
   "metadata": {},
   "source": [
    "## TEST `retention_1`\n"
   ]
  },
  {
   "cell_type": "code",
   "execution_count": 4,
   "metadata": {},
   "outputs": [
    {
     "data": {
      "text/plain": [
       "'Conversion Rates: Control: 44.82%, Test: 44.23%'"
      ]
     },
     "execution_count": 4,
     "metadata": {},
     "output_type": "execute_result"
    }
   ],
   "source": [
    "# We know the data : players and retained players (1 and 7 day) for test (gate_40) and control (gate_30)\n",
    "\n",
    "retained_gate30 = len(cats_gate30[cats_gate30['retention_1']==1]) # Players on control version retained 1 day\n",
    "players_gate30 = len(cats_gate30) # Players on control version\n",
    "\n",
    "retained_gate40 = len(cats_gate40[cats_gate40['retention_1']==1]) # Players on test version retained 1 day\n",
    "players_gate40 = len(cats_gate40) # Players on test version \n",
    "\n",
    "CR_ctrl = retained_gate30/players_gate30\n",
    "CR_test = retained_gate40/players_gate40\n",
    "\n",
    "f'Conversion Rates: Control: {CR_ctrl * 100:.2f}%, Test: {CR_test * 100:.2f}%'\n"
   ]
  },
  {
   "cell_type": "code",
   "execution_count": 5,
   "metadata": {},
   "outputs": [
    {
     "data": {
      "text/plain": [
       "(0.44819023757326293, 0.44228528719966587)"
      ]
     },
     "execution_count": 5,
     "metadata": {},
     "output_type": "execute_result"
    }
   ],
   "source": [
    "from scipy.stats import beta\n",
    "\n",
    "# a prioris\n",
    "\n",
    "a_C, b_C = 1+retained_gate30, 1+players_gate30-retained_gate30\n",
    "\n",
    "a_T, b_T = 1+retained_gate40, 1+players_gate40-retained_gate40\n",
    "\n",
    "\n",
    "beta_control = beta(a_C, b_C)\n",
    "\n",
    "beta_test = beta(a_T, b_T)\n",
    "\n",
    "beta_control.mean(), beta_test.mean()"
   ]
  },
  {
   "cell_type": "code",
   "execution_count": 6,
   "metadata": {},
   "outputs": [],
   "source": [
    "x=np.linspace(0.43, 0.46, 1000)\n",
    "\n",
    "def plot(betas, nombres):\n",
    "    \n",
    "    for bet, nom in zip(betas, nombres):\n",
    "        \n",
    "        y=bet.pdf(x)\n",
    "        y_media=bet.mean()\n",
    "        y_std=bet.std()\n",
    "        \n",
    "        plt.plot(x, y, label='{}, conversion rate: {:.6f} $\\pm$ {:.10f}'.format(nom, y_media, y_std))\n",
    "        plt.yticks([])\n",
    "        \n",
    "    plt.legend()\n",
    "    plt.show()"
   ]
  },
  {
   "cell_type": "code",
   "execution_count": 7,
   "metadata": {},
   "outputs": [
    {
     "data": {
      "image/png": "[encoded data removed]",
      "text/plain": [
       "<Figure size 640x480 with 1 Axes>"
      ]
     },
     "metadata": {},
     "output_type": "display_data"
    }
   ],
   "source": [
    "plot([beta_test, beta_control], ['Test', 'Control'])"
   ]
  },
  {
   "cell_type": "code",
   "execution_count": 8,
   "metadata": {},
   "outputs": [
    {
     "data": {
      "text/plain": [
       "0.013175098158249857"
      ]
     },
     "execution_count": 8,
     "metadata": {},
     "output_type": "execute_result"
    }
   ],
   "source": [
    "diff = (beta_control.mean() - beta_test.mean())/beta_control.mean()\n",
    "\n",
    "diff"
   ]
  },
  {
   "cell_type": "code",
   "execution_count": 9,
   "id": "5b90c429",
   "metadata": {},
   "outputs": [
    {
     "data": {
      "text/plain": [
       "0.037206025177191036"
      ]
     },
     "execution_count": 9,
     "metadata": {},
     "output_type": "execute_result"
    }
   ],
   "source": [
    "from bayes import *\n",
    "\n",
    "bayes_prob = calc_prob(beta_test, beta_control)\n",
    "\n",
    "bayes_prob"
   ]
  },
  {
   "cell_type": "code",
   "execution_count": 10,
   "metadata": {},
   "outputs": [
    {
     "data": {
      "text/plain": [
       "'The test reduces conversion 1.32%, with a probability of 3.72%'"
      ]
     },
     "execution_count": 10,
     "metadata": {},
     "output_type": "execute_result"
    }
   ],
   "source": [
    "'''The test reduces conversion {:2.2f}%, with a probability of {:2.2f}%'''.format(diff*100, bayes_prob*100)"
   ]
  },
  {
   "cell_type": "markdown",
   "metadata": {},
   "source": [
    "## TEST `retention_7`"
   ]
  },
  {
   "cell_type": "code",
   "execution_count": 11,
   "id": "a048a711",
   "metadata": {},
   "outputs": [
    {
     "data": {
      "text/plain": [
       "'Conversion Rates: Control: 19.02%, Test: 18.20%'"
      ]
     },
     "execution_count": 11,
     "metadata": {},
     "output_type": "execute_result"
    }
   ],
   "source": [
    "# We know the data : players and retained players (1 and 7 day) for test (gate_40) and control (gate_30)\n",
    "\n",
    "retained_gate30 = len(cats_gate30[cats_gate30['retention_7']==1]) # Players on control version retained 1 day\n",
    "players_gate30 = len(cats_gate30) # Players on control version retained 1 day\n",
    "\n",
    "retained_gate40 = len(cats_gate40[cats_gate40['retention_7']==1]) # Players on test version retained 1 day\n",
    "players_gate40 = len(cats_gate40) # Players on test version retained 1 day\n",
    "\n",
    "CR_ctrl = retained_gate30/players_gate30\n",
    "CR_test = retained_gate40/players_gate40\n",
    "\n",
    "f'Conversion Rates: Control: {CR_ctrl * 100:.2f}%, Test: {CR_test * 100:.2f}%'"
   ]
  },
  {
   "cell_type": "code",
   "execution_count": 12,
   "metadata": {},
   "outputs": [
    {
     "data": {
      "text/plain": [
       "(0.19021520289919913, 0.18201402475214878)"
      ]
     },
     "execution_count": 12,
     "metadata": {},
     "output_type": "execute_result"
    }
   ],
   "source": [
    "from scipy.stats import beta\n",
    "\n",
    "# a prioris\n",
    "\n",
    "a_C, b_C = 1+retained_gate30, 1+players_gate30-retained_gate30\n",
    "\n",
    "a_T, b_T = 1+retained_gate40, 1+players_gate40-retained_gate40\n",
    "\n",
    "\n",
    "beta_control = beta(a_C, b_C)\n",
    "\n",
    "beta_test = beta(a_T, b_T)\n",
    "\n",
    "beta_control.mean(), beta_test.mean()"
   ]
  },
  {
   "cell_type": "code",
   "execution_count": 13,
   "metadata": {},
   "outputs": [],
   "source": [
    "x=np.linspace(0.17, 0.2, 1000)\n",
    "\n",
    "def plot(betas, nombres):\n",
    "    \n",
    "    for bet, nom in zip(betas, nombres):\n",
    "        \n",
    "        y=bet.pdf(x)\n",
    "        y_media=bet.mean()\n",
    "        y_std=bet.std()\n",
    "        \n",
    "        plt.plot(x, y, label='{}, conversion rate: {:.6f} $\\pm$ {:.10f}'.format(nom, y_media, y_std))\n",
    "        plt.yticks([])\n",
    "        \n",
    "    plt.legend()\n",
    "    plt.show()"
   ]
  },
  {
   "cell_type": "code",
   "execution_count": 14,
   "metadata": {},
   "outputs": [
    {
     "data": {
      "image/png": "[encoded data removed]",
      "text/plain": [
       "<Figure size 640x480 with 1 Axes>"
      ]
     },
     "metadata": {},
     "output_type": "display_data"
    }
   ],
   "source": [
    "plot([beta_test, beta_control], ['Test', 'Control'])"
   ]
  },
  {
   "cell_type": "code",
   "execution_count": 15,
   "metadata": {},
   "outputs": [
    {
     "data": {
      "text/plain": [
       "0.04311526114658881"
      ]
     },
     "execution_count": 15,
     "metadata": {},
     "output_type": "execute_result"
    }
   ],
   "source": [
    "diff = (beta_control.mean() - beta_test.mean())/beta_control.mean()\n",
    "diff"
   ]
  },
  {
   "cell_type": "code",
   "execution_count": 16,
   "metadata": {},
   "outputs": [
    {
     "data": {
      "text/plain": [
       "0.0007773386645337392"
      ]
     },
     "execution_count": 16,
     "metadata": {},
     "output_type": "execute_result"
    }
   ],
   "source": [
    "bayes_prob = calc_prob(beta_test, beta_control)\n",
    "bayes_prob"
   ]
  },
  {
   "cell_type": "code",
   "execution_count": 17,
   "metadata": {},
   "outputs": [
    {
     "data": {
      "text/plain": [
       "'The test reduces conversion 4.31%, with a probability of 0.08%'"
      ]
     },
     "execution_count": 17,
     "metadata": {},
     "output_type": "execute_result"
    }
   ],
   "source": [
    "'''The test reduces conversion {:2.2f}%, with a probability of {:2.2f}%'''.format(diff*100, bayes_prob*100)"
   ]
  },
  {
   "cell_type": "markdown",
   "metadata": {},
   "source": [
    "## **Conclusion**\n",
    "\n",
    "- **1-Day Retention:**\n",
    "The test with the gate placed on level 40 leads to a reduction in 1-day retention by `1.32%` with a probability of `3.72%`.\n",
    "\n",
    "- **7-Day Retention:**\n",
    "The test with the gate placed on level 40 results in a reduction in 7-day retention by `4.31%` with a probability of `0.08%`.\n"
   ]
  },
  {
   "cell_type": "markdown",
   "metadata": {},
   "source": [
    "### BONUS\n",
    "#### *To further support our conclusions, let's find out p-values of our retention rates with proportions ztest*"
   ]
  },
  {
   "cell_type": "markdown",
   "metadata": {},
   "source": [
    "$$ H_0: \\text{control 1 day retention} = \\text{test 1 day retention} $$\n",
    "$$ H_1: \\text{control 1 day retention} \\neq \\text{test 1 day retention} $$"
   ]
  },
  {
   "cell_type": "code",
   "execution_count": 18,
   "metadata": {},
   "outputs": [
    {
     "name": "stdout",
     "output_type": "stream",
     "text": [
      "The p-value 0.07441 > 0.05 we can't reject the null hypothesis\n"
     ]
    }
   ],
   "source": [
    "# 1 day retention proportions_ztest\n",
    "\n",
    "control_res = catsdf[catsdf.version=='gate_30']['retention_1']\n",
    "test_res = catsdf[catsdf.version=='gate_40']['retention_1']\n",
    "\n",
    "sum(control_res), sum(test_res)\n",
    "\n",
    "instalaciones = [control_res.shape[0], test_res.shape[0]]  # se instalan el juego\n",
    "retenciones = [sum(control_res), sum(test_res)]     # tienen retención en 1 día\n",
    "\n",
    "z_score, p_value = proportions_ztest(retenciones, nobs=instalaciones)\n",
    "(control_a, test_a), (control_b, test_b) = proportion_confint(retenciones,\n",
    "                                                                nobs=instalaciones,\n",
    "                                                                alpha=0.05)\n",
    "if p_value < 0.05:\n",
    "    print(f\"The p-value {round(p_value, 5)} < 0.05 we can reject the null hypothesis\")\n",
    "else:\n",
    "    print(f\"The p-value {round(p_value, 5)} > 0.05 we can't reject the null hypothesis\")"
   ]
  },
  {
   "cell_type": "markdown",
   "metadata": {},
   "source": [
    "$$ H_0: \\text{control 7 day retention} = \\text{test 7 day retention} $$\n",
    "$$ H_1: \\text{control 7 day retention} \\neq \\text{test 7 day retention} $$"
   ]
  },
  {
   "cell_type": "code",
   "execution_count": 19,
   "metadata": {},
   "outputs": [
    {
     "name": "stdout",
     "output_type": "stream",
     "text": [
      "The p-value 0.00155 < 0.05 we can reject the null hypothesis\n"
     ]
    }
   ],
   "source": [
    "# 7 days retention proportions_ztest\n",
    "\n",
    "control_res = catsdf[catsdf.version=='gate_30']['retention_7']\n",
    "test_res = catsdf[catsdf.version=='gate_40']['retention_7']\n",
    "\n",
    "sum(control_res), sum(test_res)\n",
    "\n",
    "instalaciones = [control_res.shape[0], test_res.shape[0]]  # se instalan el juego\n",
    "retenciones = [sum(control_res), sum(test_res)]     # tienen retención en 1 día\n",
    "\n",
    "z_score, p_value = proportions_ztest(retenciones, nobs=instalaciones)\n",
    "(control_a, test_a), (control_b, test_b) = proportion_confint(retenciones,\n",
    "                                                                nobs=instalaciones,\n",
    "                                                                alpha=0.05)\n",
    "if p_value < 0.05:\n",
    "    print(f\"The p-value {round(p_value, 5)} < 0.05 we can reject the null hypothesis\")\n",
    "else:\n",
    "    print(f\"The p-value {round(p_value, 5)} > 0.05 we can't reject the null hypothesis\")"
   ]
  }
 ],
 "metadata": {
  "finalized": {
   "timestamp": 1642857010293,
   "trusted": true
  },
  "kernelspec": {
   "display_name": "clase",
   "language": "python",
   "name": "clase"
  },
  "language_info": {
   "codemirror_mode": {
    "name": "ipython",
    "version": 3
   },
   "file_extension": ".py",
   "mimetype": "text/x-python",
   "name": "python",
   "nbconvert_exporter": "python",
   "pygments_lexer": "ipython3",
   "version": "3.10.13"
  },
  "toc": {
   "base_numbering": 1,
   "nav_menu": {},
   "number_sections": true,
   "sideBar": true,
   "skip_h1_title": false,
   "title_cell": "Table of Contents",
   "title_sidebar": "Contents",
   "toc_cell": true,
   "toc_position": {},
   "toc_section_display": true,
   "toc_window_display": false
  },
  "varInspector": {
   "cols": {
    "lenName": 16,
    "lenType": 16,
    "lenVar": 40
   },
   "kernels_config": {
    "python": {
     "delete_cmd_postfix": "",
     "delete_cmd_prefix": "del ",
     "library": "var_list.py",
     "varRefreshCmd": "print(var_dic_list())"
    },
    "r": {
     "delete_cmd_postfix": ") ",
     "delete_cmd_prefix": "rm(",
     "library": "var_list.r",
     "varRefreshCmd": "cat(var_dic_list()) "
    }
   },
   "types_to_exclude": [
    "module",
    "function",
    "builtin_function_or_method",
    "instance",
    "_Feature"
   ],
   "window_display": false
  }
 },
 "nbformat": 4,
 "nbformat_minor": 5
}
